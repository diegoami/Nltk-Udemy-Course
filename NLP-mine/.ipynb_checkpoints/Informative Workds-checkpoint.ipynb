{
 "cells": [
  {
   "cell_type": "code",
   "execution_count": 1,
   "metadata": {
    "collapsed": true
   },
   "outputs": [],
   "source": [
    "import nltk\n"
   ]
  },
  {
   "cell_type": "code",
   "execution_count": 2,
   "metadata": {
    "collapsed": true
   },
   "outputs": [],
   "source": [
    "alice = nltk.corpus.gutenberg.words('carroll-alice.txt')"
   ]
  },
  {
   "cell_type": "code",
   "execution_count": 3,
   "metadata": {
    "collapsed": true
   },
   "outputs": [],
   "source": [
    "alice_fd = nltk.FreqDist(alice)"
   ]
  },
  {
   "cell_type": "code",
   "execution_count": 4,
   "metadata": {
    "collapsed": true
   },
   "outputs": [],
   "source": [
    "alice_fd_100 = alice_fd.most_common(100)"
   ]
  },
  {
   "cell_type": "code",
   "execution_count": 5,
   "metadata": {},
   "outputs": [
    {
     "data": {
      "text/plain": [
       "[(u',', 1993),\n",
       " (u\"'\", 1731),\n",
       " (u'the', 1527),\n",
       " (u'and', 802),\n",
       " (u'.', 764),\n",
       " (u'to', 725),\n",
       " (u'a', 615),\n",
       " (u'I', 543),\n",
       " (u'it', 527),\n",
       " (u'she', 509),\n",
       " (u'of', 500),\n",
       " (u'said', 456),\n",
       " (u\",'\", 397),\n",
       " (u'Alice', 396),\n",
       " (u'in', 357),\n",
       " (u'was', 352),\n",
       " (u'you', 345),\n",
       " (u\"!'\", 278),\n",
       " (u'that', 275),\n",
       " (u'as', 246),\n",
       " (u'her', 243),\n",
       " (u't', 216),\n",
       " (u':', 216),\n",
       " (u'at', 202),\n",
       " (u's', 195),\n",
       " (u'on', 189),\n",
       " (u\".'\", 187),\n",
       " (u';', 186),\n",
       " (u'had', 177),\n",
       " (u'with', 175),\n",
       " (u'all', 173),\n",
       " (u'!', 155),\n",
       " (u\"?'\", 154),\n",
       " (u'be', 145),\n",
       " (u'-', 141),\n",
       " (u'for', 140),\n",
       " (u'--', 140),\n",
       " (u'but', 133),\n",
       " (u'they', 129),\n",
       " (u'not', 129),\n",
       " (u'very', 126),\n",
       " (u'little', 125),\n",
       " (u'so', 124),\n",
       " (u'out', 116),\n",
       " (u'this', 113),\n",
       " (u'The', 108),\n",
       " (u'he', 101),\n",
       " (u'down', 99),\n",
       " (u'up', 98),\n",
       " (u'is', 97),\n",
       " (u'one', 94),\n",
       " (u'his', 94),\n",
       " (u'about', 94),\n",
       " (u'what', 93),\n",
       " (u'them', 88),\n",
       " (u'know', 87),\n",
       " (u'were', 85),\n",
       " (u'like', 84),\n",
       " (u'went', 83),\n",
       " (u'again', 83),\n",
       " (u'herself', 83),\n",
       " (u'if', 78),\n",
       " (u'or', 76),\n",
       " (u'Queen', 74),\n",
       " (u'thought', 74),\n",
       " (u'could', 73),\n",
       " (u'have', 73),\n",
       " (u'then', 72),\n",
       " (u'would', 70),\n",
       " (u'no', 69),\n",
       " (u'when', 69),\n",
       " (u'do', 68),\n",
       " (u'time', 68),\n",
       " (u'into', 67),\n",
       " (u'And', 67),\n",
       " (u'see', 66),\n",
       " (u'there', 65),\n",
       " (u'It', 64),\n",
       " (u'off', 62),\n",
       " (u'me', 61),\n",
       " (u'King', 61),\n",
       " (u'did', 60),\n",
       " (u'*', 60),\n",
       " (u'Turtle', 59),\n",
       " (u'm', 58),\n",
       " (u'began', 58),\n",
       " (u'can', 57),\n",
       " (u'way', 56),\n",
       " (u'its', 56),\n",
       " (u'Mock', 56),\n",
       " (u'll', 56),\n",
       " (u'my', 55),\n",
       " (u'Gryphon', 55),\n",
       " (u'by', 55),\n",
       " (u'Hatter', 55),\n",
       " (u'quite', 53),\n",
       " (u'your', 53),\n",
       " (u'an', 52),\n",
       " (u'don', 51),\n",
       " (u'much', 51)]"
      ]
     },
     "execution_count": 5,
     "metadata": {},
     "output_type": "execute_result"
    }
   ],
   "source": [
    "alice_fd_100"
   ]
  },
  {
   "cell_type": "code",
   "execution_count": 6,
   "metadata": {
    "collapsed": true
   },
   "outputs": [],
   "source": [
    "moby= nltk.corpus.gutenberg.words('melville-moby_dick.txt')"
   ]
  },
  {
   "cell_type": "code",
   "execution_count": 7,
   "metadata": {
    "collapsed": true
   },
   "outputs": [],
   "source": [
    "moby_fd = nltk.FreqDist(moby)"
   ]
  },
  {
   "cell_type": "code",
   "execution_count": 8,
   "metadata": {
    "collapsed": true
   },
   "outputs": [],
   "source": [
    "moby_fd_100 = moby_fd.most_common(100)"
   ]
  },
  {
   "cell_type": "code",
   "execution_count": 9,
   "metadata": {},
   "outputs": [
    {
     "ename": "NameError",
     "evalue": "name 'alice_100_fd' is not defined",
     "output_type": "error",
     "traceback": [
      "\u001b[1;31m---------------------------------------------------------------------------\u001b[0m",
      "\u001b[1;31mNameError\u001b[0m                                 Traceback (most recent call last)",
      "\u001b[1;32m<ipython-input-9-4d36789672a0>\u001b[0m in \u001b[0;36m<module>\u001b[1;34m()\u001b[0m\n\u001b[1;32m----> 1\u001b[1;33m \u001b[0malice_100\u001b[0m \u001b[1;33m=\u001b[0m \u001b[1;33m[\u001b[0m\u001b[0mword\u001b[0m\u001b[1;33m[\u001b[0m\u001b[1;36m0\u001b[0m\u001b[1;33m]\u001b[0m \u001b[1;32mfor\u001b[0m \u001b[0mword\u001b[0m \u001b[1;32min\u001b[0m \u001b[0malice_100_fd\u001b[0m\u001b[1;33m]\u001b[0m\u001b[1;33m\u001b[0m\u001b[0m\n\u001b[0m",
      "\u001b[1;31mNameError\u001b[0m: name 'alice_100_fd' is not defined"
     ]
    }
   ],
   "source": [
    "alice_100 = [word[0] for word in alice_100_fd]"
   ]
  },
  {
   "cell_type": "code",
   "execution_count": 10,
   "metadata": {
    "collapsed": true
   },
   "outputs": [],
   "source": [
    "alice_100 = [word[0] for word in alice_fd_100\n",
    "            ]"
   ]
  },
  {
   "cell_type": "code",
   "execution_count": 11,
   "metadata": {
    "collapsed": true
   },
   "outputs": [],
   "source": [
    "moby_100 = [word[0] for word in moby_fd_100]"
   ]
  },
  {
   "cell_type": "code",
   "execution_count": 12,
   "metadata": {},
   "outputs": [
    {
     "ename": "TypeError",
     "evalue": "unsupported operand type(s) for -: 'list' and 'list'",
     "output_type": "error",
     "traceback": [
      "\u001b[1;31m---------------------------------------------------------------------------\u001b[0m",
      "\u001b[1;31mTypeError\u001b[0m                                 Traceback (most recent call last)",
      "\u001b[1;32m<ipython-input-12-b5c291fa010b>\u001b[0m in \u001b[0;36m<module>\u001b[1;34m()\u001b[0m\n\u001b[1;32m----> 1\u001b[1;33m \u001b[0malice_100\u001b[0m \u001b[1;33m-\u001b[0m \u001b[0mmoby_100\u001b[0m\u001b[1;33m\u001b[0m\u001b[0m\n\u001b[0m",
      "\u001b[1;31mTypeError\u001b[0m: unsupported operand type(s) for -: 'list' and 'list'"
     ]
    }
   ],
   "source": [
    "alice_100 - moby_100"
   ]
  },
  {
   "cell_type": "code",
   "execution_count": 13,
   "metadata": {},
   "outputs": [
    {
     "data": {
      "text/plain": [
       "{u\"!'\",\n",
       " u'*',\n",
       " u\",'\",\n",
       " u\".'\",\n",
       " u':',\n",
       " u\"?'\",\n",
       " u'Alice',\n",
       " u'Gryphon',\n",
       " u'Hatter',\n",
       " u'King',\n",
       " u'Mock',\n",
       " u'Queen',\n",
       " u'Turtle',\n",
       " u'again',\n",
       " u'began',\n",
       " u'can',\n",
       " u'could',\n",
       " u'did',\n",
       " u'do',\n",
       " u'don',\n",
       " u'herself',\n",
       " u'know',\n",
       " u'little',\n",
       " u'll',\n",
       " u'm',\n",
       " u'much',\n",
       " u'off',\n",
       " u'quite',\n",
       " u'said',\n",
       " u'see',\n",
       " u'she',\n",
       " u't',\n",
       " u'thought',\n",
       " u'way',\n",
       " u'went',\n",
       " u'your'}"
      ]
     },
     "execution_count": 13,
     "metadata": {},
     "output_type": "execute_result"
    }
   ],
   "source": [
    "set(alice_100) - set(moby_100)"
   ]
  },
  {
   "cell_type": "code",
   "execution_count": 14,
   "metadata": {
    "collapsed": true
   },
   "outputs": [],
   "source": [
    "moby_fd_200 = moby_fd.most_common(200)"
   ]
  },
  {
   "cell_type": "code",
   "execution_count": 15,
   "metadata": {
    "collapsed": true
   },
   "outputs": [],
   "source": [
    "moby_200 = [word[0] for word in moby_fd_200]"
   ]
  },
  {
   "cell_type": "code",
   "execution_count": 16,
   "metadata": {},
   "outputs": [
    {
     "data": {
      "text/plain": [
       "{u\"!'\",\n",
       " u'*',\n",
       " u\",'\",\n",
       " u\".'\",\n",
       " u\"?'\",\n",
       " u'Alice',\n",
       " u'Gryphon',\n",
       " u'Hatter',\n",
       " u'King',\n",
       " u'Mock',\n",
       " u'Queen',\n",
       " u'Turtle',\n",
       " u'began',\n",
       " u'don',\n",
       " u'herself',\n",
       " u'll',\n",
       " u'm',\n",
       " u'quite',\n",
       " u'she',\n",
       " u'went'}"
      ]
     },
     "execution_count": 16,
     "metadata": {},
     "output_type": "execute_result"
    }
   ],
   "source": [
    "set(alice_100) - set(moby_200)"
   ]
  },
  {
   "cell_type": "code",
   "execution_count": 17,
   "metadata": {
    "collapsed": true
   },
   "outputs": [],
   "source": [
    "alice_fd_200 = alice_fd.most_common(200)"
   ]
  },
  {
   "cell_type": "code",
   "execution_count": 18,
   "metadata": {
    "collapsed": true
   },
   "outputs": [],
   "source": [
    "alice_200 = [word[0] for word in alice_fd_200 ]"
   ]
  },
  {
   "cell_type": "code",
   "execution_count": 19,
   "metadata": {},
   "outputs": [
    {
     "data": {
      "text/plain": [
       "{u'!\"',\n",
       " u'.\"',\n",
       " u'Ahab',\n",
       " u'boat',\n",
       " u'man',\n",
       " u'old',\n",
       " u'sea',\n",
       " u'ship',\n",
       " u'than',\n",
       " u'these',\n",
       " u'though',\n",
       " u'we',\n",
       " u'whale',\n",
       " u'will',\n",
       " u'ye'}"
      ]
     },
     "execution_count": 19,
     "metadata": {},
     "output_type": "execute_result"
    }
   ],
   "source": [
    "set(moby_100) - set(alice_200)"
   ]
  },
  {
   "cell_type": "code",
   "execution_count": null,
   "metadata": {
    "collapsed": true
   },
   "outputs": [],
   "source": []
  }
 ],
 "metadata": {
  "kernelspec": {
   "display_name": "Python 2",
   "language": "python",
   "name": "python2"
  },
  "language_info": {
   "codemirror_mode": {
    "name": "ipython",
    "version": 2
   },
   "file_extension": ".py",
   "mimetype": "text/x-python",
   "name": "python",
   "nbconvert_exporter": "python",
   "pygments_lexer": "ipython2",
   "version": "2.7.13"
  }
 },
 "nbformat": 4,
 "nbformat_minor": 2
}
